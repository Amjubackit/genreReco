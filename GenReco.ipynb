{
 "cells": [
  {
   "cell_type": "code",
   "execution_count": null,
   "id": "4274482e",
   "metadata": {},
   "outputs": [],
   "source": [
    "%load_ext autoreload\n",
    "%autoreload 2"
   ]
  },
  {
   "cell_type": "markdown",
   "source": [
    "# GenReco - The Lyrics-based Genre Recognizer\n",
    "\n",
    "The primary objective of this project is to investigate the feasibility of predicting a song's genre based on its lyrical features. With the vast amount of music available today, categorizing songs into genres manually can be time-consuming and subjective.\n",
    "\n",
    "By leveraging the power of data science techniques, we aim to explore whether the lyrical characteristics of songs can serve as reliable indicators for genre classification. Through this research, we intend to contribute to the field of music analysis and enhance our understanding of the relationship between lyrics and musical genres.\n",
    "\n",
    "# Procedure\n",
    "\n",
    "The project will follow a systematic procedure to investigate the predictability of song genres based on lyrical features.\n",
    "\n",
    "## Study\n",
    "Initially, extensive research will be conducted to gain a comprehensive understanding of the subject matter, exploring existing studies and theories related to music genre classification.\n",
    "\n",
    "## Dataset Generation\n",
    "To generate a suitable dataset for analysis, we will utilize the Spotify API to retrieve relevant song metadata such as artist, album, and genre information. Additionally, we will crawl lyrics from Genius.com, a popular lyrics website, to obtain the lyrical features necessary for our analysis. By combining these sources, we aim to create a diverse and representative dataset that encompasses a wide range of genres and artists.\n",
    "\n",
    "## Pre-EDA\n",
    "Once the dataset is obtained, we will focus on understanding its composition and characteristics.\n",
    " The characteristics we will be focusing on are the data types and their distributions.\n",
    " Exploratory data analysis (EDA) techniques, including visualizations and statistical summaries, will be employed to gain insights into the distribution and relationships between lyrical features and song genres. This exploratory phase will allow us to draw preliminary conclusions and identify any initial patterns or trends within the data, as well as measures of Central Tendency and Variability.\n",
    "\n",
    "## Data Curation\n",
    "Next, data curation steps will be applied to ensure the quality and reliability of the dataset. This process will involve the identification and removal of duplicate entries, as well as the detection and handling of outliers or inconsistencies in the data. By carefully curating the dataset, we aim to enhance the accuracy and integrity of our subsequent analysis.\n",
    "\n",
    "## EDA\n",
    "Following data curation, an in-depth exploratory data analysis will be conducted. This phase will involve examining the distributions, correlations, and other relevant statistical properties of the lyrical features across different genres. Visualizations such as histograms, scatter plots, and box plots will be employed to facilitate a comprehensive understanding of the dataset and unveil potential insights regarding the relationship between lyrical features and song genres.\n",
    "\n",
    "## Machine Learning\n",
    "With a solid grasp of the dataset and its characteristics, we will proceed to the model selection stage. Various machine learning algorithms, such as decision trees, random forests, or KNN, will be evaluated and compared to identify the most suitable model for genre prediction based on lyrical features. Model performance metrics, including accuracy, precision, and recall, will be assessed to determine the effectiveness of each algorithm in capturing the underlying patterns within the data.\n",
    "\n",
    "## Conclusions\n",
    "Finally, based on the chosen model and its performance, we will draw final conclusions regarding the project's main objective: the predictability of song genres using lyrical features. The findings of this research endeavor will shed light on the relationship between lyrics and musical genres, providing valuable insights for music analysis and potentially influencing future advancements in genre classification methodologies."
   ],
   "metadata": {
    "collapsed": false
   }
  },
  {
   "cell_type": "markdown",
   "source": [
    "# Some Imports...\n",
    "Here we are importing the 3rd-party libraries required for the notebook and demonstrations purposes,\n",
    "as well as some proprietary functionality that we've exported to modules, in order to avoid clutter in the notebook."
   ],
   "metadata": {
    "collapsed": false
   }
  },
  {
   "cell_type": "code",
   "execution_count": null,
   "outputs": [],
   "source": [
    "# IMPORT 3RD PARTY LIBRARIES\n",
    "\n",
    "import os.path as osp\n",
    "import matplotlib.pyplot as plt\n",
    "import seaborn as sns\n",
    "import pandas as pd\n",
    "import numpy as np\n",
    "import math"
   ],
   "metadata": {
    "collapsed": false
   }
  },
  {
   "cell_type": "markdown",
   "source": [],
   "metadata": {
    "collapsed": false
   }
  },
  {
   "cell_type": "code",
   "execution_count": null,
   "outputs": [],
   "source": [
    "# IMPORT UTILS\n",
    "\n",
    "from utils.ml_utils import split_to_train_and_test, get_classifier_obj, calc_evaluation_val\n",
    "from utils.curation_utils import transfer_to_categorical, remove_duplicates_and_drop_na, repair_numeric_missing_vals, \\\n",
    "    outlier_detection_iqr, my_dist_to_avg\n",
    "from utils.plot_utils import plot_frequent_elements, plot_cross_tabulation, get_highly_correlated_cols, \\\n",
    "    transfer_str_to_numeric_vals, plot_frequencies, plot_continuous_feature_relations, plot_histograms\n",
    "from utils.general_utls import load_dataset\n",
    "from utils.lyrics_utils import reget_lyrics_df"
   ],
   "metadata": {
    "collapsed": false
   }
  },
  {
   "cell_type": "markdown",
   "source": [
    "# Dataset Generation\n",
    "\n",
    "The generation of the dataset was carried out separately using a regular Python script execution. This approach was chosen to maintain a clear distinction between the dataset and its analysis within this notebook. By treating the dataset as pre-existing data, it allows for better organization of our thought process and prevents mixing the data generation process with its subsequent analysis.\n",
    "\n",
    ">Having said that, during the process of the data analysis, we will not shy away from manipulating the data to fit our needs.\n",
    "\n",
    "<i>Refer to generate_dataset.py</i>"
   ],
   "metadata": {
    "collapsed": false
   }
  },
  {
   "cell_type": "markdown",
   "source": [
    "# Loading the Dataset"
   ],
   "metadata": {
    "collapsed": false
   }
  },
  {
   "cell_type": "code",
   "execution_count": null,
   "outputs": [],
   "source": [
    "file_name = \"huge_dataset.csv\"\n",
    "dataset_file_path = osp.join(osp.dirname(osp.abspath(\"__file__\")), file_name)\n",
    "dataset = load_dataset(dataset_file_path)"
   ],
   "metadata": {
    "collapsed": false
   }
  },
  {
   "cell_type": "markdown",
   "source": [
    "# Pre-EDA: Data Visualization\n",
    "\n",
    "Let us examine the individual columns in the data.\n",
    "The data contains the following fields:\n",
    "\n",
    "| Column Name      | Data Type   | Variable type |\n",
    "|------------------|-------------|----|\n",
    "| source_genre     | object      | Free text |\n",
    "| name             | object      | Free text |\n",
    "| artists          | object      | Free text |\n",
    "| release_year     | int64       | Ordinal |\n",
    "| release_month    | float64     | Ordinal |\n",
    "| genres           | object      | List |\n",
    "| genre     | object      | Categorial |\n",
    "| duration         | int64       | Numeric|\n",
    "| popularity       | int64       | Ordinal|\n",
    "| lyrics_file      | object      | Free text (metadata) |\n",
    "| lyrics_url       | object      | Free text (metadata) |\n",
    "| intro_cnt        | float64     | Ordinal|\n",
    "| outro_cnt        | float64     | Ordinal|\n",
    "| verse_cnt        | float64     | Ordinal|\n",
    "| chorus_cnt       | float64     | Ordinal|\n",
    "| line_cnt         | float64     | Numeric|\n",
    "| word_cnt         | float64     | Numeric|\n",
    "| unique_words_cnt | float64     | Ordinal |\n",
    "| stop_words_cnt   | float64     | Ordinal |\n",
    "| slang_words_cnt  | float64     | Ordinal |\n",
    "| positive         | float64     | Ordinal |\n",
    "| negative         | float64     | Ordinal |\n",
    "| neutral          | float64     | Ordinal |\n",
    "| compound         | float64     | Ordinal |"
   ],
   "metadata": {
    "collapsed": false
   }
  },
  {
   "cell_type": "markdown",
   "source": [
    "## Top Elements\n",
    "With Pie Charts, we can see the ratio of the leading elements of each feature"
   ],
   "metadata": {
    "collapsed": false
   }
  },
  {
   "cell_type": "code",
   "execution_count": null,
   "outputs": [],
   "source": [
    "pie_cols = ['genre', 'artists', 'release_year']\n",
    "plot_frequencies(dataset, pie_cols, 'pie', 7)"
   ],
   "metadata": {
    "collapsed": false
   }
  },
  {
   "cell_type": "markdown",
   "source": [
    "As the graphs show, we can learn that, out of the leading values:\n",
    "- there are significantly more pop songs than other genres\n",
    "- the artists are mostly balanced\n",
    "- big majority of the data is recently released songs"
   ],
   "metadata": {
    "collapsed": false
   }
  },
  {
   "cell_type": "markdown",
   "source": [
    "## Ordinal Variables Frequency\n",
    "With Bar Charts, it's easier to understand how frequent every ordinal variable is, in relation to itself"
   ],
   "metadata": {
    "collapsed": false
   }
  },
  {
   "cell_type": "code",
   "execution_count": null,
   "outputs": [],
   "source": [
    "bars_cols = ['release_year', 'release_month',\n",
    "             'intro_cnt', 'outro_cnt', 'verse_cnt', 'chorus_cnt']\n",
    "plot_frequencies(dataset, bars_cols, 'bar')"
   ],
   "metadata": {
    "collapsed": false
   }
  },
  {
   "cell_type": "markdown",
   "source": [
    "As the graphs show, we can learn that:\n",
    "- as seen before, most of the data is indeed new songs. In addition, the data decreases as the years go back\n",
    "- suspiciously, there are 0 chorus and verse count, which might indicate an issue with the data\n",
    "- songs are release relatively on the same rate across the year's month, with a slight increase at the beginning and middle of the year"
   ],
   "metadata": {
    "collapsed": false
   }
  },
  {
   "cell_type": "markdown",
   "source": [
    "##"
   ],
   "metadata": {
    "collapsed": false
   }
  },
  {
   "cell_type": "code",
   "execution_count": null,
   "outputs": [],
   "source": [
    "histogram_cols = ['popularity', 'unique_word_cnt', 'slang_word_cnt',\n",
    "                  'positive', 'negative', 'neutral', 'compound', 'stop_word_cnt']\n",
    "plot_histograms(dataset, histogram_cols)"
   ],
   "metadata": {
    "collapsed": false
   }
  },
  {
   "cell_type": "markdown",
   "source": [
    "# Conclusions - 1D visualizations\n",
    "\n",
    "From looking at the graphs we can identify the following:\n",
    "- Pop is the most popular genre\n",
    "- Many songs have 0 popularity - but the next \"spike\" of data is around 80\n",
    "-"
   ],
   "metadata": {
    "collapsed": false
   }
  },
  {
   "cell_type": "markdown",
   "source": [
    "# FEATURE RELATIONS VISUALIZATION"
   ],
   "metadata": {
    "collapsed": false
   }
  },
  {
   "cell_type": "code",
   "execution_count": null,
   "outputs": [],
   "source": [
    "continuous_vars = [\"duration\", \"line_cnt\", \"word_cnt\", \"unique_word_cnt\", \"stop_word_cnt\", \"slang_word_cnt\"]\n",
    "plot_continuous_feature_relations(dataset, continuous_vars)"
   ],
   "metadata": {
    "collapsed": false
   }
  },
  {
   "cell_type": "markdown",
   "source": [
    "# MISSING VALUES & OUTLIERS HUNT\n",
    "As part of the data manipulation process, let's test the data's missing values, and look for outlier values"
   ],
   "metadata": {
    "collapsed": false
   }
  },
  {
   "cell_type": "code",
   "execution_count": null,
   "outputs": [],
   "source": [
    "missing_values = (dataset.isna() | dataset.isnull()).sum() / len(dataset)\n",
    "missing_values = missing_values[missing_values>0]\n",
    "plt.figure(figsize=(18, 6))\n",
    "plt.xticks(rotation=45)\n",
    "plt.title(\"Missing values per Column (ratio, non-zero)\")\n",
    "plt.bar(missing_values.index, missing_values.values, width=0.2)"
   ],
   "metadata": {
    "collapsed": false
   }
  },
  {
   "cell_type": "markdown",
   "source": [
    "## Analysis: missing values\n",
    "Some records don't have the release_month field set. This is because the original released date in the dataset included the release year only. Since this is a not-so-significant amount of data, we will get rid of these lines"
   ],
   "metadata": {
    "collapsed": false
   }
  },
  {
   "cell_type": "code",
   "execution_count": null,
   "outputs": [],
   "source": [
    "dataset_1 = dataset.dropna(axis=\"index\", subset=[\"release_month\"])\n",
    "len(dataset_1)/len(dataset)"
   ],
   "metadata": {
    "collapsed": false
   }
  },
  {
   "cell_type": "markdown",
   "source": [
    "## CLEAN DATASET"
   ],
   "metadata": {
    "collapsed": false
   }
  },
  {
   "cell_type": "code",
   "execution_count": null,
   "outputs": [],
   "source": [
    "dup_na_removed = remove_duplicates_and_drop_na(dataset)\n",
    "outliers = outlier_detection_iqr(dup_na_removed, my_dist_to_avg)\n",
    "repaired = repair_numeric_missing_vals(outliers, dup_na_removed.select_dtypes('number'))\n",
    "repaired.info()"
   ],
   "metadata": {
    "collapsed": false
   }
  },
  {
   "cell_type": "code",
   "execution_count": null,
   "outputs": [],
   "source": [
    "plot_frequencies(repaired)"
   ],
   "metadata": {
    "collapsed": false
   }
  },
  {
   "cell_type": "code",
   "execution_count": null,
   "outputs": [],
   "source": [
    "plot_continuous_feature_relations(repaired)"
   ],
   "metadata": {
    "collapsed": false
   }
  },
  {
   "cell_type": "code",
   "execution_count": null,
   "outputs": [],
   "source": [
    "numeric_to_bin_dict = {\n",
    "    \"duration\": [0, 150000, 300000, 450000, 600000, 750000],\n",
    "    \"popularity\": [0, 20, 40, 60, 80, 100],\n",
    "    \"line_cnt\": [0, 50, 100, 150, 200, 250],\n",
    "    \"word_cnt\": [0, 300, 600, 900, 1200, 1500],\n",
    "    \"unique_words_ratio\": [0, 100, 200, 300, 400, 500],\n",
    "    \"stop_words_ratio\": [-1, 150, 300, 450, 600, 750],\n",
    "}\n",
    "\n",
    "categorical_cols = ['chorus_cnt', 'verse_cnt']\n",
    "transferred = transfer_to_categorical(repaired, numeric_to_bin_dict, categorical_cols)"
   ],
   "metadata": {
    "collapsed": false
   }
  },
  {
   "cell_type": "code",
   "execution_count": null,
   "outputs": [],
   "source": [
    "transferred.info()"
   ],
   "metadata": {
    "collapsed": false
   }
  },
  {
   "cell_type": "markdown",
   "source": [
    "EDA SECTION"
   ],
   "metadata": {
    "collapsed": false
   }
  },
  {
   "cell_type": "code",
   "execution_count": null,
   "outputs": [],
   "source": [
    "df_params = pd.DataFrame({'plot_type': ['bar', 'line', 'pie'],\n",
    "                          'col_name': ['common_genre', 'release_year', 'artists'],\n",
    "                          'num_top_elements': [6,6,6]})\n",
    "plot_frequent_elements(transferred, df_params)"
   ],
   "metadata": {
    "collapsed": false
   }
  },
  {
   "cell_type": "code",
   "execution_count": null,
   "outputs": [],
   "source": [
    "plt.rcParams[\"figure.figsize\"] = (18,6)"
   ],
   "metadata": {
    "collapsed": false
   }
  },
  {
   "cell_type": "code",
   "execution_count": null,
   "outputs": [],
   "source": [
    "print(\"\\nCommon Genre Distribution:\")\n",
    "sns.countplot(x='common_genre', data=transferred)\n",
    "plt.show()"
   ],
   "metadata": {
    "collapsed": false
   }
  },
  {
   "cell_type": "code",
   "execution_count": null,
   "outputs": [],
   "source": [
    "numerical_cols = ['duration','popularity', 'line_cnt', 'word_cnt', 'unique_words_ratio',\n",
    "                  'stop_words_ratio']\n",
    "for col in numerical_cols:\n",
    "    sns.histplot(transferred[col])\n",
    "    plt.title(col + \" Distribution\")\n",
    "    plt.show()"
   ],
   "metadata": {
    "collapsed": false
   }
  },
  {
   "cell_type": "code",
   "execution_count": null,
   "outputs": [],
   "source": [
    "sentiment_cols = ['negative', 'neutral', 'positive', 'compound']\n",
    "for col in sentiment_cols:\n",
    "    sns.histplot(transferred[col])\n",
    "    plt.title(col + \" Distribution\")\n",
    "    plt.show()"
   ],
   "metadata": {
    "collapsed": false
   }
  },
  {
   "cell_type": "code",
   "execution_count": null,
   "outputs": [],
   "source": [
    "# cross_tabulation(transferred, 'release_date', 'popularity')\n",
    "plot_cross_tabulation(transferred, ['release_month', 'popularity'], 'common_genre')"
   ],
   "metadata": {
    "collapsed": false
   }
  },
  {
   "cell_type": "code",
   "execution_count": null,
   "outputs": [],
   "source": [
    "correlations, tuple_arr = get_highly_correlated_cols(transferred)"
   ],
   "metadata": {
    "collapsed": false
   }
  },
  {
   "cell_type": "code",
   "execution_count": null,
   "outputs": [],
   "source": [
    "cols_for_correlations = transferred.columns\n",
    "indx_sort = np.argsort(correlations)\n",
    "for n_correlation in indx_sort:\n",
    "    col_lt, col_rt = tuple_arr[n_correlation]\n",
    "    col_name_lt, col_name_rt = cols_for_correlations[col_lt], cols_for_correlations[col_rt]\n",
    "    title = \"corr('%s', '%s')=%4.2f\" %(col_name_lt, col_name_rt, correlations[n_correlation])\n",
    "    print(title)"
   ],
   "metadata": {
    "collapsed": false
   }
  },
  {
   "cell_type": "code",
   "execution_count": null,
   "outputs": [],
   "source": [
    "transferred = transfer_str_to_numeric_vals(transferred)\n",
    "transferred.info()"
   ],
   "metadata": {
    "collapsed": false
   }
  },
  {
   "cell_type": "code",
   "execution_count": null,
   "outputs": [],
   "source": [
    "prepared = transferred.drop(\n",
    "    columns=[\n",
    "        'genres', 'source_genre',\n",
    "        'name', 'lyrics_file',\n",
    "        'lyrics_url', 'popularity',\n",
    "        'compound', 'neutral',\n",
    "        'line_cnt'\n",
    "    ],\n",
    "    axis=1\n",
    ")"
   ],
   "metadata": {
    "collapsed": false
   }
  },
  {
   "cell_type": "code",
   "execution_count": null,
   "outputs": [],
   "source": [
    "prepared.info()"
   ],
   "metadata": {
    "collapsed": false
   }
  },
  {
   "cell_type": "code",
   "execution_count": null,
   "outputs": [],
   "source": [
    "X_train, X_test, y_train, y_test = split_to_train_and_test(prepared, 'common_genre', 0.2, 5)\n",
    "\n",
    "params = {'n_neighbors':23}\n",
    "clf = get_classifier_obj(\"KNN\",params)\n",
    "clf.fit(X_train, y_train)\n",
    "y_predicted = clf.predict(X_test)"
   ],
   "metadata": {
    "collapsed": false
   }
  },
  {
   "cell_type": "code",
   "execution_count": null,
   "outputs": [],
   "source": [
    "accuracy_val = calc_evaluation_val(\"accuracy\", y_test, y_predicted)\n",
    "print(accuracy_val)\n",
    "# matrix = calc_evaluation_val(\"confusion_matrix\", y_test, y_predicted)\n",
    "# print(matrix)\n",
    "# recall_val = calc_evaluation_val(\"recall\", y_test, y_predicted)\n",
    "# print(recall_val)\n",
    "# f1_val = calc_evaluation_val(\"f1\", y_test, y_predicted)\n",
    "# print(f1_val)\n",
    "# confusion_matrix_val = calc_evaluation_val(\"confusion_matrix\", y_test, y_predicted)"
   ],
   "metadata": {
    "collapsed": false
   }
  }
 ],
 "metadata": {
  "kernelspec": {
   "display_name": "Python [conda env:hit-datascienceintro]",
   "language": "python",
   "name": "conda-env-hit-datascienceintro-py"
  },
  "language_info": {
   "codemirror_mode": {
    "name": "ipython",
    "version": 3
   },
   "file_extension": ".py",
   "mimetype": "text/x-python",
   "name": "python",
   "nbconvert_exporter": "python",
   "pygments_lexer": "ipython3",
   "version": "3.8.16"
  }
 },
 "nbformat": 4,
 "nbformat_minor": 5
}
