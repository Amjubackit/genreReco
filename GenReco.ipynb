{
 "cells": [
  {
   "cell_type": "code",
   "execution_count": null,
   "id": "4274482e",
   "metadata": {},
   "outputs": [],
   "source": [
    "%load_ext autoreload\n",
    "%autoreload 2"
   ]
  },
  {
   "cell_type": "markdown",
   "id": "804713d4",
   "metadata": {},
   "source": [
    "IMPORT SECTION"
   ]
  },
  {
   "cell_type": "code",
   "execution_count": null,
   "id": "a036c298",
   "metadata": {},
   "outputs": [],
   "source": [
    "import os.path as osp\n",
    "import matplotlib.pyplot as plt\n",
    "import seaborn as sns\n",
    "import pandas as pd\n",
    "import numpy as np\n",
    "import math"
   ]
  },
  {
   "cell_type": "markdown",
   "id": "d7740d58",
   "metadata": {},
   "source": [
    "IMPORT UTILS"
   ]
  },
  {
   "cell_type": "code",
   "execution_count": null,
   "id": "08efd24a",
   "metadata": {},
   "outputs": [],
   "source": [
    "from utils.ml_utils import split_to_train_and_test, get_classifier_obj, calc_evaluation_val\n",
    "from utils.curation_utils import transfer_to_categorical, remove_duplicates_and_drop_na, repair_numeric_missing_vals, \\\n",
    "    outlier_detection_iqr, my_dist_to_avg\n",
    "from utils.plot_utils import plot_frequent_elements, plot_cross_tabulation, get_highly_correlated_cols, \\\n",
    "    transfer_str_to_numeric_vals\n",
    "from utils.general_utls import load_dataset"
   ]
  },
  {
   "cell_type": "markdown",
   "id": "986c7a09",
   "metadata": {},
   "source": [
    "LOAD DATASET"
   ]
  },
  {
   "cell_type": "code",
   "execution_count": null,
   "id": "8d78894d",
   "metadata": {},
   "outputs": [],
   "source": [
    "file_name = \"dataset_test.csv\"\n",
    "dataset_file_path = osp.join(osp.dirname(osp.abspath(\"__file__\")), file_name)\n",
    "dataset = load_dataset(dataset_file_path)\n",
    "dataset.common_genre = dataset.common_genre.astype('category')\n",
    "print(f\"SHAPE: {dataset.shape}\\n\")\n",
    "dataset.info()"
   ]
  },
  {
   "cell_type": "markdown",
   "id": "2959f53b",
   "metadata": {},
   "source": [
    " DATA VISUALIZATION\n",
    "\n",
    "Let us examine the individual columns in the data.\n",
    "The data contains the following fields:\n",
    "- release_year - Ordinal\n",
    "- release_month - Ordinal\n",
    "- common_genre - Category\n",
    "- duration - Numeric\n",
    "- popularity - Ordinal\n",
    "- line_cnt - Numeric\n",
    "- word_cnt - Numeric\n",
    "- unique_words_ratio - Ordinal (Norm.)\n",
    "- stop_words_ratio - Ordinal (Norm.)\n",
    "- slang_words_ratio - Ordinal (Norm.)\n",
    "- negative - Ordinal (Norm.)\n",
    "- positive - Ordinal (Norm.)\n",
    "- neutral - Ordinal (Norm.)\n",
    "- compound - Ordinal (Norm.)\n",
    "- intro_cnt - Ordinal\n",
    "- outro_cnt - Ordinal\n",
    "- verse_cnt - Ordinal\n",
    "- chorus_cnt - Ordinal\n",
    "\n",
    "\n",
    "We will visualize differently the types of variables:\n",
    "- Categorial - as Pie Chart\n",
    "- Oridnal - as Bar Chart\n",
    "- Numeric or Normalized Ordinal - as Histogram"
   ]
  },
  {
   "cell_type": "code",
   "execution_count": null,
   "id": "241db944",
   "metadata": {},
   "outputs": [],
   "source": [
    "plot_frequent_elements(\n",
    "    dataset,\n",
    "    pd.DataFrame({\n",
    "        'plot_type': ['pie'],\n",
    "        'col_name': ['common_genre'],\n",
    "        'num_top_elements': [7]\n",
    "    })\n",
    ")\n",
    "\n",
    "ordinal_cols = ['release_year', 'release_month', 'popularity',\n",
    "                'intro_cnt', 'outro_cnt', 'verse_cnt', 'chorus_cnt']\n",
    "cols = min(len(ordinal_cols), 4)\n",
    "rows = math.ceil((len(ordinal_cols) / 4))\n",
    "\n",
    "for dummy in range(rows):\n",
    "    sub_list = ordinal_cols[dummy*cols:(dummy+1)*cols]\n",
    "    plot_frequent_elements(\n",
    "        dataset,\n",
    "        pd.DataFrame({\n",
    "            'plot_type': ['bar'] * len(sub_list),\n",
    "            'col_name': sub_list,\n",
    "            'num_top_elements': [7] * len(sub_list)\n",
    "        })\n",
    "    )\n",
    "\n",
    "numeric_cols =['unique_words_ratio', 'stop_words_ratio', 'slang_words_ratio',\n",
    "               'positive', 'negative', 'neutral', 'compound']\n",
    "cols = min(len(numeric_cols), 4)\n",
    "rows = math.ceil((len(numeric_cols) / 4))\n",
    "\n",
    "for ridx in range(rows):\n",
    "    fig, axs = plt.subplots(1, min(cols, len(numeric_cols) - ridx*4), figsize=(20, 5))\n",
    "    axs = np.array(axs).reshape(-1)\n",
    "    for i, col in enumerate(numeric_cols[ridx*4:(ridx+1)*4]):\n",
    "        sns.histplot(dataset[col], ax=axs[i])"
   ]
  },
  {
   "cell_type": "markdown",
   "id": "b4ea2fc0",
   "metadata": {},
   "source": [
    "# MISSING VALUES & OUTLIERS HUNT\n",
    "As part of the data manipulation process, let's test the data's missing values, and look for outlier values"
   ]
  },
  {
   "cell_type": "code",
   "execution_count": null,
   "id": "4f567e60",
   "metadata": {},
   "outputs": [],
   "source": [
    "missing_values = (dataset.isna() | dataset.isnull()).sum() / len(dataset)\n",
    "missing_values = missing_values[missing_values>0]\n",
    "plt.figure(figsize=(18, 6))\n",
    "plt.xticks(rotation=45)\n",
    "plt.title(\"Missing values per Column (ratio, non-zero)\")\n",
    "plt.bar(missing_values.index, missing_values.values, width=0.2)"
   ]
  },
  {
   "cell_type": "markdown",
   "id": "fdd87ddf",
   "metadata": {},
   "source": [
    "## Analysis - missing values\n",
    "Some records don't have the release_month field set. This is because the original released date in the dataset included the release year only. Since this is a not-so-significant amount of data, we will get rid of these lines"
   ]
  },
  {
   "cell_type": "code",
   "execution_count": null,
   "id": "f233cfb3",
   "metadata": {},
   "outputs": [],
   "source": [
    "dataset_1 = dataset.dropna(axis=\"index\", subset=[\"release_month\"])\n",
    "len(dataset_1)/len(dataset)"
   ]
  },
  {
   "cell_type": "markdown",
   "id": "33f3f832",
   "metadata": {},
   "source": [
    "CLEAN DATASET"
   ]
  },
  {
   "cell_type": "code",
   "execution_count": null,
   "id": "2befe3c8",
   "metadata": {},
   "outputs": [],
   "source": [
    "dup_na_removed = remove_duplicates_and_drop_na(dataset)\n",
    "outliers = outlier_detection_iqr(dup_na_removed, my_dist_to_avg)\n",
    "repaired = repair_numeric_missing_vals(outliers, dup_na_removed.select_dtypes('number'))\n",
    "repaired.info()"
   ]
  },
  {
   "cell_type": "code",
   "execution_count": null,
   "id": "f0b701a5",
   "metadata": {},
   "outputs": [],
   "source": [
    "# pd.plotting.scatter_matrix(repaired, figsize = (20,20))"
   ]
  },
  {
   "cell_type": "code",
   "execution_count": null,
   "id": "880333c5",
   "metadata": {},
   "outputs": [],
   "source": [
    "numeric_to_bin_dict = {\n",
    "    \"duration\": [0, 150000, 300000, 450000, 600000, 750000],\n",
    "    \"popularity\": [0, 20, 40, 60, 80, 100],\n",
    "    \"line_cnt\": [0, 50, 100, 150, 200, 250],\n",
    "    \"word_cnt\": [0, 300, 600, 900, 1200, 1500],\n",
    "    \"unique_words_ratio\": [0, 100, 200, 300, 400, 500],\n",
    "    \"stop_words_ratio\": [-1, 150, 300, 450, 600, 750],\n",
    "}\n",
    "\n",
    "categorical_cols = ['chorus_cnt', 'verse_cnt']\n",
    "transferred = transfer_to_categorical(repaired, numeric_to_bin_dict, categorical_cols)"
   ]
  },
  {
   "cell_type": "code",
   "execution_count": null,
   "id": "beef9e5f",
   "metadata": {},
   "outputs": [],
   "source": [
    "transferred.info()"
   ]
  },
  {
   "cell_type": "markdown",
   "id": "9d840b7e",
   "metadata": {},
   "source": [
    "EDA SECTION"
   ]
  },
  {
   "cell_type": "code",
   "execution_count": null,
   "id": "dda3d43f",
   "metadata": {},
   "outputs": [],
   "source": [
    "df_params = pd.DataFrame({'plot_type': ['bar', 'line', 'pie'],\n",
    "                          'col_name': ['common_genre', 'release_year', 'artists'],\n",
    "                          'num_top_elements': [6,6,6]})\n",
    "plot_frequent_elements(transferred, df_params)"
   ]
  },
  {
   "cell_type": "code",
   "execution_count": null,
   "id": "a38e267e",
   "metadata": {},
   "outputs": [],
   "source": [
    "plt.rcParams[\"figure.figsize\"] = (18,6)"
   ]
  },
  {
   "cell_type": "code",
   "execution_count": null,
   "id": "1b956f70",
   "metadata": {},
   "outputs": [],
   "source": [
    "print(\"\\nCommon Genre Distribution:\")\n",
    "sns.countplot(x='common_genre', data=transferred)\n",
    "plt.show()"
   ]
  },
  {
   "cell_type": "code",
   "execution_count": null,
   "id": "73281ccd",
   "metadata": {},
   "outputs": [],
   "source": [
    "numerical_cols = ['duration','popularity', 'line_cnt', 'word_cnt', 'unique_words_ratio',\n",
    "                  'stop_words_ratio']\n",
    "for col in numerical_cols:\n",
    "    sns.histplot(transferred[col])\n",
    "    plt.title(col + \" Distribution\")\n",
    "    plt.show()"
   ]
  },
  {
   "cell_type": "code",
   "execution_count": null,
   "id": "4b4cf44f",
   "metadata": {},
   "outputs": [],
   "source": [
    "sentiment_cols = ['negative', 'neutral', 'positive', 'compound']\n",
    "for col in sentiment_cols:\n",
    "    sns.histplot(transferred[col])\n",
    "    plt.title(col + \" Distribution\")\n",
    "    plt.show()"
   ]
  },
  {
   "cell_type": "code",
   "execution_count": null,
   "id": "e8a99d6f",
   "metadata": {},
   "outputs": [],
   "source": [
    "# cross_tabulation(transferred, 'release_date', 'popularity')\n",
    "plot_cross_tabulation(transferred, ['release_month', 'popularity'], 'common_genre')"
   ]
  },
  {
   "cell_type": "code",
   "execution_count": null,
   "id": "9086b545",
   "metadata": {},
   "outputs": [],
   "source": [
    "correlations, tuple_arr = get_highly_correlated_cols(transferred)"
   ]
  },
  {
   "cell_type": "code",
   "execution_count": null,
   "id": "46d28f07",
   "metadata": {},
   "outputs": [],
   "source": [
    "cols_for_correlations = transferred.columns\n",
    "indx_sort = np.argsort(correlations)\n",
    "for n_correlation in indx_sort:\n",
    "    col_lt, col_rt = tuple_arr[n_correlation]\n",
    "    col_name_lt, col_name_rt = cols_for_correlations[col_lt], cols_for_correlations[col_rt]\n",
    "    title = \"corr('%s', '%s')=%4.2f\" %(col_name_lt, col_name_rt, correlations[n_correlation])\n",
    "    print(title)"
   ]
  },
  {
   "cell_type": "code",
   "execution_count": null,
   "id": "5cff8b5c",
   "metadata": {},
   "outputs": [],
   "source": [
    "transferred = transfer_str_to_numeric_vals(transferred)\n",
    "transferred.info()"
   ]
  },
  {
   "cell_type": "code",
   "execution_count": null,
   "id": "04f1b93a",
   "metadata": {},
   "outputs": [],
   "source": [
    "X_train, X_test, y_train, y_test = split_to_train_and_test(transferred, 'common_genre', 0.2, 5)\n",
    "\n",
    "params = {'n_neighbors':47}\n",
    "clf = get_classifier_obj(\"KNN\",params)\n",
    "clf.fit(X_train, y_train)\n",
    "y_predicted = clf.predict(X_test)"
   ]
  },
  {
   "cell_type": "code",
   "execution_count": null,
   "id": "bdebef38",
   "metadata": {},
   "outputs": [],
   "source": [
    "accuracy_val = calc_evaluation_val(\"accuracy\", y_test, y_predicted)\n",
    "print(accuracy_val)\n",
    "# precision_val = calc_evaluation_val(\"precision\", y_test, y_predicted)\n",
    "# print(precision_val)\n",
    "# recall_val = calc_evaluation_val(\"recall\", y_test, y_predicted)\n",
    "# print(recall_val)\n",
    "# f1_val = calc_evaluation_val(\"f1\", y_test, y_predicted)\n",
    "# print(f1_val)\n",
    "# confusion_matrix_val = calc_evaluation_val(\"confusion_matrix\", y_test, y_predicted)"
   ]
  }
 ],
 "metadata": {
  "kernelspec": {
   "display_name": "Python 3 (ipykernel)",
   "language": "python",
   "name": "python3"
  },
  "language_info": {
   "codemirror_mode": {
    "name": "ipython",
    "version": 3
   },
   "file_extension": ".py",
   "mimetype": "text/x-python",
   "name": "python",
   "nbconvert_exporter": "python",
   "pygments_lexer": "ipython3",
   "version": "3.8.16"
  }
 },
 "nbformat": 4,
 "nbformat_minor": 5
}
