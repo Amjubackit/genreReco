{
 "cells": [
  {
   "cell_type": "markdown",
   "source": [
    "IMPORT SECTION"
   ],
   "metadata": {
    "collapsed": false
   }
  },
  {
   "cell_type": "code",
   "execution_count": 1,
   "outputs": [],
   "source": [
    "# %load_ext autoreload\n",
    "# %autoreload 2"
   ],
   "metadata": {
    "collapsed": false,
    "ExecuteTime": {
     "end_time": "2023-07-02T13:40:09.886077Z",
     "start_time": "2023-07-02T13:40:09.881968Z"
    }
   }
  },
  {
   "cell_type": "code",
   "execution_count": 2,
   "outputs": [],
   "source": [
    "import os\n",
    "import matplotlib.pyplot as plt\n",
    "import seaborn as sns\n",
    "import pandas as pd\n",
    "import numpy as np\n",
    "\n",
    "pd.set_option('display.max_columns', None)\n",
    "pd.set_option('display.max_rows', None)\n",
    "pd.set_option('display.width', None)\n",
    "\n",
    "# import nltk\n",
    "# nltk.download('stopwords')\n",
    "# nltk.download('punkt')\n",
    "# nltk.download('cmudict')\n",
    "# nltk.download('vader_lexicon')\n",
    "# nltk.download('words')\n",
    "# nltk.download('wordnet')\n",
    "# nltk.download('omw-1.4')"
   ],
   "metadata": {
    "collapsed": false,
    "ExecuteTime": {
     "end_time": "2023-07-02T13:40:10.161120Z",
     "start_time": "2023-07-02T13:40:10.135074Z"
    }
   }
  },
  {
   "cell_type": "raw",
   "source": [
    "IMPORT UTILS"
   ],
   "metadata": {
    "collapsed": false
   }
  },
  {
   "cell_type": "code",
   "execution_count": 3,
   "outputs": [],
   "source": [
    "from utils.curation_utils import transfer_to_categorical, remove_duplicates_and_drop_na, repair_numeric_missing_vals, \\\n",
    "    outlier_detection_iqr, my_dist_to_avg\n",
    "from utils.plot_utils import plot_frequent_elements, plot_cross_tabulation, get_highly_correlated_cols, \\\n",
    "    transfer_str_to_numeric_vals\n",
    "from utils.spotify_utils import fetch_tracks, fetch_track_data\n",
    "from utils.general_utls import GENRE_LIST, save_dataset, load_dataset"
   ],
   "metadata": {
    "collapsed": false,
    "ExecuteTime": {
     "end_time": "2023-07-02T13:40:11.108798Z",
     "start_time": "2023-07-02T13:40:10.463928Z"
    }
   }
  },
  {
   "cell_type": "markdown",
   "source": [
    "FETCH SONGS DATA USING SPOTIFY API"
   ],
   "metadata": {
    "collapsed": false
   }
  },
  {
   "cell_type": "code",
   "execution_count": 4,
   "outputs": [
    {
     "name": "stdout",
     "output_type": "stream",
     "text": [
      "GOING TO FETCH 22 TRACKS\n"
     ]
    }
   ],
   "source": [
    "dataset_file = \"dataset_test.csv\"\n",
    "query = \"year:1990-2023\"\n",
    "song_per_genre = 1\n",
    "offset_range = int(song_per_genre/50) or 1\n",
    "print(f\"GOING TO FETCH {song_per_genre*len(GENRE_LIST)} TRACKS\")"
   ],
   "metadata": {
    "collapsed": false,
    "ExecuteTime": {
     "end_time": "2023-07-02T13:40:11.138422Z",
     "start_time": "2023-07-02T13:40:11.129622Z"
    }
   }
  },
  {
   "cell_type": "code",
   "execution_count": 5,
   "outputs": [
    {
     "name": "stdout",
     "output_type": "stream",
     "text": [
      "\n",
      "FETCHING 1 POP SONGS, LIMIT: 1\n",
      "SEARCH QUERY: year:1990-2023 genre:pop\n",
      "\n",
      "PARSING SONG DATA (1)\n",
      "EXTRACTING TRACK FEATURES, AUDIO FEATURES = False\n",
      "INIT HANDLER FOR FILE: song_lyrics/taylor-swift-cruel-summer.txt\n",
      "EXTRACTED FEATURES:\n",
      "{'line_cnt': 79, 'word_cnt': 467, 'unique_words_ratio': 0.302, 'stop_words_ratio': 0.445, 'slang_words_ratio': 0.013, 'intro_cnt': 1, 'outro_cnt': 1, 'verse_cnt': 2, 'chorus_cnt': 2, 'neg': 0.171, 'neu': 0.646, 'pos': 0.183, 'compound': -0.8188}\n",
      "SONG DATA SAVED\n",
      "\n",
      "FETCHING 1 ROCK SONGS, LIMIT: 1\n",
      "SEARCH QUERY: year:1990-2023 genre:rock\n",
      "\n",
      "PARSING SONG DATA (1)\n",
      "EXTRACTING TRACK FEATURES, AUDIO FEATURES = False\n",
      "INIT HANDLER FOR FILE: song_lyrics/the-neighbourhood-sweater-weather.txt\n",
      "EXTRACTED FEATURES:\n",
      "{'line_cnt': 65, 'word_cnt': 356, 'unique_words_ratio': 0.374, 'stop_words_ratio': 0.528, 'slang_words_ratio': 0.02, 'intro_cnt': 0, 'outro_cnt': 0, 'verse_cnt': 2, 'chorus_cnt': 3, 'neg': 0.064, 'neu': 0.814, 'pos': 0.123, 'compound': 0.9829}\n",
      "SONG DATA SAVED\n",
      "\n",
      "FETCHING 1 HIP-HOP SONGS, LIMIT: 1\n",
      "SEARCH QUERY: year:1990-2023 genre:hip-hop\n",
      "\n",
      "PARSING SONG DATA (1)\n",
      "EXTRACTING TRACK FEATURES, AUDIO FEATURES = False\n",
      "INIT HANDLER FOR FILE: song_lyrics/tyler-the-creator-see-you-again.txt\n",
      "EXTRACTED FEATURES:\n",
      "{'line_cnt': 103, 'word_cnt': 501, 'unique_words_ratio': 0.265, 'stop_words_ratio': 0.401, 'slang_words_ratio': 0.018, 'intro_cnt': 1, 'outro_cnt': 0, 'verse_cnt': 1, 'chorus_cnt': 2, 'neg': 0.12, 'neu': 0.686, 'pos': 0.194, 'compound': 0.9302}\n",
      "SONG DATA SAVED\n",
      "\n",
      "FETCHING 1 RAP SONGS, LIMIT: 1\n",
      "SEARCH QUERY: year:1990-2023 genre:rap\n",
      "\n",
      "PARSING SONG DATA (1)\n",
      "EXTRACTING TRACK FEATURES, AUDIO FEATURES = False\n",
      "INIT HANDLER FOR FILE: song_lyrics/tyler-the-creator-see-you-again.txt\n",
      "EXTRACTED FEATURES:\n",
      "{'line_cnt': 103, 'word_cnt': 501, 'unique_words_ratio': 0.265, 'stop_words_ratio': 0.401, 'slang_words_ratio': 0.018, 'intro_cnt': 1, 'outro_cnt': 0, 'verse_cnt': 1, 'chorus_cnt': 2, 'neg': 0.12, 'neu': 0.686, 'pos': 0.194, 'compound': 0.9302}\n",
      "SONG DATA SAVED\n",
      "\n",
      "FETCHING 1 R&B SONGS, LIMIT: 1\n",
      "SEARCH QUERY: year:1990-2023 genre:r&b\n",
      "\n",
      "PARSING SONG DATA (1)\n",
      "EXTRACTING TRACK FEATURES, AUDIO FEATURES = False\n",
      "INIT HANDLER FOR FILE: song_lyrics/sza-kill-bill.txt\n",
      "EXTRACTED FEATURES:\n",
      "{'line_cnt': 48, 'word_cnt': 359, 'unique_words_ratio': 0.329, 'stop_words_ratio': 0.529, 'slang_words_ratio': 0.019, 'intro_cnt': 0, 'outro_cnt': 0, 'verse_cnt': 2, 'chorus_cnt': 3, 'neg': 0.211, 'neu': 0.593, 'pos': 0.196, 'compound': -0.8149}\n",
      "SONG DATA SAVED\n",
      "\n",
      "FETCHING 1 SOUL SONGS, LIMIT: 1\n",
      "SEARCH QUERY: year:1990-2023 genre:soul\n",
      "\n",
      "PARSING SONG DATA (1)\n",
      "EXTRACTING TRACK FEATURES, AUDIO FEATURES = False\n",
      "INIT HANDLER FOR FILE: song_lyrics/frank-ocean-pink-white.txt\n",
      "EXTRACTED FEATURES:\n",
      "{'line_cnt': 56, 'word_cnt': 304, 'unique_words_ratio': 0.507, 'stop_words_ratio': 0.47, 'slang_words_ratio': 0.003, 'intro_cnt': 1, 'outro_cnt': 1, 'verse_cnt': 1, 'chorus_cnt': 2, 'neg': 0.059, 'neu': 0.778, 'pos': 0.163, 'compound': 0.9844}\n",
      "SONG DATA SAVED\n",
      "\n",
      "FETCHING 1 ELECTRONIC SONGS, LIMIT: 1\n",
      "SEARCH QUERY: year:1990-2023 genre:electronic\n",
      "\n",
      "PARSING SONG DATA (1)\n",
      "EXTRACTING TRACK FEATURES, AUDIO FEATURES = False\n",
      "INIT HANDLER FOR FILE: song_lyrics/dj-snake-u-are-my-high.txt\n",
      "EXTRACTED FEATURES:\n",
      "{'line_cnt': 98, 'word_cnt': 563, 'unique_words_ratio': 0.194, 'stop_words_ratio': 0.517, 'slang_words_ratio': 0.009, 'intro_cnt': 1, 'outro_cnt': 0, 'verse_cnt': 1, 'chorus_cnt': 2, 'neg': 0.044, 'neu': 0.805, 'pos': 0.151, 'compound': 0.9964}\n",
      "SONG DATA SAVED\n",
      "\n",
      "FETCHING 1 DANCE SONGS, LIMIT: 1\n",
      "SEARCH QUERY: year:1990-2023 genre:dance\n",
      "\n",
      "PARSING SONG DATA (1)\n",
      "EXTRACTING TRACK FEATURES, AUDIO FEATURES = False\n",
      "INIT HANDLER FOR FILE: song_lyrics/david-guetta-im-good.txt\n",
      "EXTRACTED FEATURES:\n",
      "{'line_cnt': 40, 'word_cnt': 281, 'unique_words_ratio': 0.253, 'stop_words_ratio': 0.349, 'slang_words_ratio': 0.064, 'intro_cnt': 0, 'outro_cnt': 0, 'verse_cnt': 1, 'chorus_cnt': 3, 'neg': 0.065, 'neu': 0.623, 'pos': 0.313, 'compound': 0.9973}\n",
      "SONG DATA SAVED\n",
      "\n",
      "FETCHING 1 COUNTRY SONGS, LIMIT: 1\n",
      "SEARCH QUERY: year:1990-2023 genre:country\n",
      "\n",
      "PARSING SONG DATA (1)\n",
      "EXTRACTING TRACK FEATURES, AUDIO FEATURES = False\n",
      "INIT HANDLER FOR FILE: song_lyrics/luke-combs-fast-car.txt\n",
      "EXTRACTED FEATURES:\n",
      "{'line_cnt': 72, 'word_cnt': 525, 'unique_words_ratio': 0.356, 'stop_words_ratio': 0.484, 'slang_words_ratio': 0.011, 'intro_cnt': 0, 'outro_cnt': 1, 'verse_cnt': 4, 'chorus_cnt': 3, 'neg': 0.05, 'neu': 0.841, 'pos': 0.11, 'compound': 0.9746}\n",
      "SONG DATA SAVED\n",
      "\n",
      "FETCHING 1 JAZZ SONGS, LIMIT: 1\n",
      "SEARCH QUERY: year:1990-2023 genre:jazz\n",
      "\n",
      "PARSING SONG DATA (1)\n",
      "EXTRACTING TRACK FEATURES, AUDIO FEATURES = False\n",
      "INIT HANDLER FOR FILE: song_lyrics/norah-jones-dont-know-why.txt\n",
      "EXTRACTED FEATURES:\n",
      "{'line_cnt': 29, 'word_cnt': 156, 'unique_words_ratio': 0.436, 'stop_words_ratio': 0.571, 'slang_words_ratio': 0.006, 'intro_cnt': 0, 'outro_cnt': 0, 'verse_cnt': 4, 'chorus_cnt': 0, 'neg': 0.072, 'neu': 0.859, 'pos': 0.069, 'compound': -0.1154}\n",
      "SONG DATA SAVED\n",
      "\n",
      "FETCHING 1 CLASSICAL SONGS, LIMIT: 1\n",
      "SEARCH QUERY: year:1990-2023 genre:classical\n",
      "\n",
      "PARSING SONG DATA (1)\n",
      "EXTRACTING TRACK FEATURES, AUDIO FEATURES = False\n",
      "INIT HANDLER FOR FILE: song_lyrics/ludovico-einaudi-experience.txt\n",
      "EXTRACTED FEATURES:\n",
      "{'line_cnt': 58, 'word_cnt': 270, 'unique_words_ratio': 0.274, 'stop_words_ratio': 0.456, 'slang_words_ratio': 0.0, 'intro_cnt': 0, 'outro_cnt': 0, 'verse_cnt': 0, 'chorus_cnt': 0, 'neg': 0.084, 'neu': 0.916, 'pos': 0.0, 'compound': -0.952}\n",
      "SONG DATA SAVED\n",
      "\n",
      "FETCHING 1 REGGAE SONGS, LIMIT: 1\n",
      "SEARCH QUERY: year:1990-2023 genre:reggae\n",
      "\n",
      "PARSING SONG DATA (1)\n",
      "EXTRACTING TRACK FEATURES, AUDIO FEATURES = False\n",
      "FAILED FETCH TRACK DATA: list index out of range\n",
      "FAILED FETCHING TRACKS: 'NoneType' object is not iterable\n",
      "\n",
      "FETCHING 1 ALTERNATIVE SONGS, LIMIT: 1\n",
      "SEARCH QUERY: year:1990-2023 genre:alternative\n",
      "\n",
      "PARSING SONG DATA (1)\n",
      "EXTRACTING TRACK FEATURES, AUDIO FEATURES = False\n",
      "INIT HANDLER FOR FILE: song_lyrics/the-neighbourhood-sweater-weather.txt\n",
      "EXTRACTED FEATURES:\n",
      "{'line_cnt': 65, 'word_cnt': 356, 'unique_words_ratio': 0.374, 'stop_words_ratio': 0.528, 'slang_words_ratio': 0.02, 'intro_cnt': 0, 'outro_cnt': 0, 'verse_cnt': 2, 'chorus_cnt': 3, 'neg': 0.064, 'neu': 0.814, 'pos': 0.123, 'compound': 0.9829}\n",
      "SONG DATA SAVED\n",
      "\n",
      "FETCHING 1 INDIE SONGS, LIMIT: 1\n",
      "SEARCH QUERY: year:1990-2023 genre:indie\n",
      "\n",
      "PARSING SONG DATA (1)\n",
      "EXTRACTING TRACK FEATURES, AUDIO FEATURES = False\n",
      "INIT HANDLER FOR FILE: song_lyrics/glass-animals-heat-waves.txt\n",
      "EXTRACTED FEATURES:\n",
      "{'line_cnt': 74, 'word_cnt': 422, 'unique_words_ratio': 0.28, 'stop_words_ratio': 0.483, 'slang_words_ratio': 0.057, 'intro_cnt': 1, 'outro_cnt': 1, 'verse_cnt': 2, 'chorus_cnt': 3, 'neg': 0.09, 'neu': 0.801, 'pos': 0.108, 'compound': 0.7394}\n",
      "SONG DATA SAVED\n",
      "\n",
      "FETCHING 1 FOLK SONGS, LIMIT: 1\n",
      "SEARCH QUERY: year:1990-2023 genre:folk\n",
      "\n",
      "PARSING SONG DATA (1)\n",
      "EXTRACTING TRACK FEATURES, AUDIO FEATURES = False\n",
      "INIT HANDLER FOR FILE: song_lyrics/lizzy-mcalpine-ceilings.txt\n",
      "EXTRACTED FEATURES:\n",
      "{'line_cnt': 34, 'word_cnt': 197, 'unique_words_ratio': 0.472, 'stop_words_ratio': 0.563, 'slang_words_ratio': 0.0, 'intro_cnt': 0, 'outro_cnt': 0, 'verse_cnt': 2, 'chorus_cnt': 2, 'neg': 0.034, 'neu': 0.709, 'pos': 0.257, 'compound': 0.9944}\n",
      "SONG DATA SAVED\n",
      "\n",
      "FETCHING 1 METAL SONGS, LIMIT: 1\n",
      "SEARCH QUERY: year:1990-2023 genre:metal\n",
      "\n",
      "PARSING SONG DATA (1)\n",
      "EXTRACTING TRACK FEATURES, AUDIO FEATURES = False\n",
      "INIT HANDLER FOR FILE: song_lyrics/foo-fighters-everlong.txt\n",
      "EXTRACTED FEATURES:\n",
      "{'line_cnt': 42, 'word_cnt': 216, 'unique_words_ratio': 0.333, 'stop_words_ratio': 0.537, 'slang_words_ratio': 0.005, 'intro_cnt': 0, 'outro_cnt': 0, 'verse_cnt': 3, 'chorus_cnt': 3, 'neg': 0.013, 'neu': 0.878, 'pos': 0.109, 'compound': 0.9508}\n",
      "SONG DATA SAVED\n",
      "\n",
      "FETCHING 1 PUNK SONGS, LIMIT: 1\n",
      "SEARCH QUERY: year:1990-2023 genre:punk\n",
      "\n",
      "PARSING SONG DATA (1)\n",
      "EXTRACTING TRACK FEATURES, AUDIO FEATURES = False\n",
      "INIT HANDLER FOR FILE: song_lyrics/jimmy-eat-world-the-middle.txt\n",
      "EXTRACTED FEATURES:\n",
      "{'line_cnt': 47, 'word_cnt': 267, 'unique_words_ratio': 0.288, 'stop_words_ratio': 0.543, 'slang_words_ratio': 0.004, 'intro_cnt': 0, 'outro_cnt': 0, 'verse_cnt': 3, 'chorus_cnt': 3, 'neg': 0.022, 'neu': 0.782, 'pos': 0.196, 'compound': 0.9922}\n",
      "SONG DATA SAVED\n",
      "\n",
      "FETCHING 1 BLUES SONGS, LIMIT: 1\n",
      "SEARCH QUERY: year:1990-2023 genre:blues\n",
      "\n",
      "PARSING SONG DATA (1)\n",
      "EXTRACTING TRACK FEATURES, AUDIO FEATURES = False\n",
      "INIT HANDLER FOR FILE: song_lyrics/the-white-stripes-seven-nation-army.txt\n",
      "EXTRACTED FEATURES:\n",
      "{'line_cnt': 30, 'word_cnt': 193, 'unique_words_ratio': 0.544, 'stop_words_ratio': 0.44, 'slang_words_ratio': 0.088, 'intro_cnt': 0, 'outro_cnt': 0, 'verse_cnt': 3, 'chorus_cnt': 0, 'neg': 0.067, 'neu': 0.926, 'pos': 0.007, 'compound': -0.7838}\n",
      "SONG DATA SAVED\n",
      "\n",
      "FETCHING 1 WORLD SONGS, LIMIT: 1\n",
      "SEARCH QUERY: year:1990-2023 genre:world\n",
      "\n",
      "PARSING SONG DATA (1)\n",
      "EXTRACTING TRACK FEATURES, AUDIO FEATURES = False\n",
      "INIT HANDLER FOR FILE: song_lyrics/manu-chao-me-gustas-tu.txt\n",
      "EXTRACTED FEATURES:\n",
      "{'line_cnt': 99, 'word_cnt': 508, 'unique_words_ratio': 0.181, 'stop_words_ratio': 0.222, 'slang_words_ratio': 0.002, 'intro_cnt': 1, 'outro_cnt': 1, 'verse_cnt': 0, 'chorus_cnt': 0, 'neg': 0.046, 'neu': 0.954, 'pos': 0.0, 'compound': -0.9648}\n",
      "SONG DATA SAVED\n",
      "\n",
      "FETCHING 1 FUNK SONGS, LIMIT: 1\n",
      "SEARCH QUERY: year:1990-2023 genre:funk\n",
      "\n",
      "PARSING SONG DATA (1)\n",
      "EXTRACTING TRACK FEATURES, AUDIO FEATURES = False\n",
      "INIT HANDLER FOR FILE: song_lyrics/ice-cube-it-was-a-good-day.txt\n",
      "EXTRACTED FEATURES:\n",
      "{'line_cnt': 75, 'word_cnt': 515, 'unique_words_ratio': 0.507, 'stop_words_ratio': 0.421, 'slang_words_ratio': 0.052, 'intro_cnt': 1, 'outro_cnt': 0, 'verse_cnt': 2, 'chorus_cnt': 0, 'neg': 0.226, 'neu': 0.692, 'pos': 0.082, 'compound': -0.9983}\n",
      "SONG DATA SAVED\n",
      "\n",
      "FETCHING 1 DISCO SONGS, LIMIT: 1\n",
      "SEARCH QUERY: year:1990-2023 genre:disco\n",
      "\n",
      "PARSING SONG DATA (1)\n",
      "EXTRACTING TRACK FEATURES, AUDIO FEATURES = False\n",
      "INIT HANDLER FOR FILE: song_lyrics/bee-gees-stayin-alive.txt\n",
      "EXTRACTED FEATURES:\n",
      "{'line_cnt': 94, 'word_cnt': 424, 'unique_words_ratio': 0.219, 'stop_words_ratio': 0.302, 'slang_words_ratio': 0.108, 'intro_cnt': 0, 'outro_cnt': 1, 'verse_cnt': 3, 'chorus_cnt': 3, 'neg': 0.096, 'neu': 0.615, 'pos': 0.29, 'compound': 0.9984}\n",
      "SONG DATA SAVED\n",
      "\n",
      "FETCHING 1 GOSPEL SONGS, LIMIT: 1\n",
      "SEARCH QUERY: year:1990-2023 genre:gospel\n",
      "\n",
      "PARSING SONG DATA (1)\n",
      "EXTRACTING TRACK FEATURES, AUDIO FEATURES = False\n",
      "INIT HANDLER FOR FILE: song_lyrics/randy-travis-three-wooden-crosses.txt\n",
      "EXTRACTED FEATURES:\n",
      "{'line_cnt': 35, 'word_cnt': 315, 'unique_words_ratio': 0.4, 'stop_words_ratio': 0.517, 'slang_words_ratio': 0.003, 'intro_cnt': 0, 'outro_cnt': 1, 'verse_cnt': 2, 'chorus_cnt': 3, 'neg': 0.043, 'neu': 0.852, 'pos': 0.105, 'compound': 0.9786}\n",
      "SONG DATA SAVED\n",
      "Data successfully saved as 'dataset_test.csv'.\n"
     ]
    }
   ],
   "source": [
    "dataset = []\n",
    "for genre in GENRE_LIST:\n",
    "    for offset in range(offset_range):\n",
    "        limit = min(50, song_per_genre-50*offset)\n",
    "        try:\n",
    "            print(f\"\\nFETCHING {song_per_genre} {genre.upper()} SONGS, LIMIT: {limit}\")\n",
    "            res = fetch_tracks(query + f\" genre:{genre}\", limit=limit, offset=offset*50)\n",
    "            if not res:\n",
    "                print(f\"FAILED TO FETCH {genre.upper()} SONGS\")\n",
    "                continue\n",
    "\n",
    "            for index, track in enumerate(res):\n",
    "                print(f\"\\nPARSING SONG DATA ({index+1})\")\n",
    "                data = {\"source_genre\": genre}\n",
    "                track_data = fetch_track_data(track)\n",
    "                data.update(track_data)\n",
    "                dataset.append(data)\n",
    "                print(f\"SONG DATA SAVED\")\n",
    "\n",
    "        except Exception as e:\n",
    "            print(f\"FAILED FETCHING TRACKS: {e}\")\n",
    "\n",
    "save_dataset(dataset, dataset_file, False)"
   ],
   "metadata": {
    "collapsed": false,
    "ExecuteTime": {
     "end_time": "2023-07-02T13:40:17.476247Z",
     "start_time": "2023-07-02T13:40:11.659979Z"
    }
   }
  },
  {
   "cell_type": "raw",
   "source": [
    "PATCH - RECALCULATIONS"
   ],
   "metadata": {
    "collapsed": false
   }
  },
  {
   "cell_type": "code",
   "execution_count": null,
   "outputs": [],
   "source": [
    "# df = load_dataset(dataset_file)\n",
    "# recalculate_dataset(df)\n",
    "# save_dataset(df, dataset_file, True)"
   ],
   "metadata": {
    "collapsed": false
   }
  },
  {
   "cell_type": "code",
   "execution_count": null,
   "outputs": [],
   "source": [
    "dataset = load_dataset(dataset_file)\n",
    "print(f\"SHAPE: {dataset.shape}\\n\")\n",
    "dataset.info()"
   ],
   "metadata": {
    "collapsed": false
   }
  },
  {
   "cell_type": "markdown",
   "source": [
    "CLEAN DATASET"
   ],
   "metadata": {
    "collapsed": false
   }
  },
  {
   "cell_type": "code",
   "execution_count": null,
   "outputs": [],
   "source": [
    "dup_na_removed = remove_duplicates_and_drop_na(dataset)\n",
    "outliers = outlier_detection_iqr(dup_na_removed, my_dist_to_avg)\n",
    "repaired = repair_numeric_missing_vals(outliers, dup_na_removed.select_dtypes('number'))\n",
    "repaired.info()"
   ],
   "metadata": {
    "collapsed": false
   }
  },
  {
   "cell_type": "code",
   "execution_count": null,
   "outputs": [],
   "source": [
    "pd.plotting.scatter_matrix(repaired, figsize = (20,20))"
   ],
   "metadata": {
    "collapsed": false
   }
  },
  {
   "cell_type": "code",
   "execution_count": null,
   "outputs": [],
   "source": [
    "numeric_to_bin_dict = {\n",
    "    \"duration\": [0, 150000, 300000, 450000, 600000, 750000],\n",
    "    \"popularity\": [0, 20, 40, 60, 80, 100],\n",
    "    \"line_cnt\": [0, 50, 100, 150, 200, 250],\n",
    "    \"word_cnt\": [0, 300, 600, 900, 1200, 1500],\n",
    "    \"unique_words\": [0, 100, 200, 300, 400, 500],\n",
    "    \"stopwords_perc\": [-1, 150, 300, 450, 600, 750],\n",
    "}\n",
    "\n",
    "categorical_cols = ['chorus_count', 'verse_count']\n",
    "transferred = transfer_to_categorical(repaired, numeric_to_bin_dict, categorical_cols)"
   ],
   "metadata": {
    "collapsed": false
   }
  },
  {
   "cell_type": "code",
   "execution_count": null,
   "outputs": [],
   "source": [
    "transferred.info()"
   ],
   "metadata": {
    "collapsed": false
   }
  },
  {
   "cell_type": "markdown",
   "source": [
    "EDA SECTION"
   ],
   "metadata": {
    "collapsed": false
   }
  },
  {
   "cell_type": "code",
   "execution_count": null,
   "outputs": [],
   "source": [
    "df_params = pd.DataFrame({'plot_type': ['bar', 'line', 'pie'],\n",
    "                          'col_name': ['common_genre', 'release_date', 'artists'],\n",
    "                          'num_top_elements': [6,6,6]})\n",
    "plot_frequent_elements(transferred, df_params)"
   ],
   "metadata": {
    "collapsed": false
   }
  },
  {
   "cell_type": "code",
   "execution_count": null,
   "outputs": [],
   "source": [
    "plt.rcParams[\"figure.figsize\"] = (18,6)"
   ],
   "metadata": {
    "collapsed": false
   }
  },
  {
   "cell_type": "code",
   "execution_count": null,
   "outputs": [],
   "source": [
    "print(\"\\nCommon Genre Distribution:\")\n",
    "sns.countplot(x='common_genre', data=transferred)\n",
    "plt.show()"
   ],
   "metadata": {
    "collapsed": false
   }
  },
  {
   "cell_type": "code",
   "execution_count": null,
   "outputs": [],
   "source": [
    "numerical_cols = ['duration','popularity', 'lines_count', 'word_count', 'unique_words',\n",
    "                  'stopwords_count']\n",
    "for col in numerical_cols:\n",
    "    sns.histplot(transferred[col])\n",
    "    plt.title(col + \" Distribution\")\n",
    "    plt.show()"
   ],
   "metadata": {
    "collapsed": false
   }
  },
  {
   "cell_type": "code",
   "execution_count": null,
   "outputs": [],
   "source": [
    "sentiment_cols = ['neg', 'neu', 'pos', 'compound']\n",
    "for col in sentiment_cols:\n",
    "    sns.histplot(transferred[col])\n",
    "    plt.title(col + \" Distribution\")\n",
    "    plt.show()"
   ],
   "metadata": {
    "collapsed": false
   }
  },
  {
   "cell_type": "code",
   "execution_count": null,
   "outputs": [],
   "source": [
    "# cross_tabulation(transferred, 'release_date', 'popularity')\n",
    "plot_cross_tabulation(transferred, ['release_date', 'popularity'], 'common_genre')"
   ],
   "metadata": {
    "collapsed": false
   }
  },
  {
   "cell_type": "code",
   "execution_count": null,
   "outputs": [],
   "source": [
    "correlations, tuple_arr = get_highly_correlated_cols(transferred)"
   ],
   "metadata": {
    "collapsed": false
   }
  },
  {
   "cell_type": "code",
   "execution_count": null,
   "outputs": [],
   "source": [
    "cols_for_correlations = transferred.columns\n",
    "indx_sort = np.argsort(correlations)\n",
    "for n_correlation in indx_sort:\n",
    "    col_lt, col_rt = tuple_arr[n_correlation]\n",
    "    col_name_lt, col_name_rt = cols_for_correlations[col_lt], cols_for_correlations[col_rt]\n",
    "    title = \"corr('%s', '%s')=%4.2f\" %(col_name_lt, col_name_rt, correlations[n_correlation])\n",
    "    print(title)"
   ],
   "metadata": {
    "collapsed": false
   }
  },
  {
   "cell_type": "code",
   "execution_count": null,
   "outputs": [],
   "source": [
    "transferred = transfer_str_to_numeric_vals(transferred)\n",
    "transferred.info()"
   ],
   "metadata": {
    "collapsed": false
   }
  },
  {
   "cell_type": "code",
   "execution_count": null,
   "outputs": [],
   "source": [
    "X_train, X_test, y_train, y_test = split_to_train_and_test(transferred, 'common_genre', 0.2, 5)\n",
    "\n",
    "params = {'n_neighbors':47}\n",
    "clf = get_classifier_obj(\"KNN\",params)\n",
    "clf.fit(X_train, y_train)\n",
    "y_predicted = clf.predict(X_test)"
   ],
   "metadata": {
    "collapsed": false
   }
  },
  {
   "cell_type": "code",
   "execution_count": null,
   "outputs": [],
   "source": [
    "accuracy_val = calc_evaluation_val(\"accuracy\", y_test, y_predicted)\n",
    "print(accuracy_val)\n",
    "# precision_val = calc_evaluation_val(\"precision\", y_test, y_predicted)\n",
    "# print(precision_val)\n",
    "# recall_val = calc_evaluation_val(\"recall\", y_test, y_predicted)\n",
    "# print(recall_val)\n",
    "# f1_val = calc_evaluation_val(\"f1\", y_test, y_predicted)\n",
    "# print(f1_val)\n",
    "# confusion_matrix_val = calc_evaluation_val(\"confusion_matrix\", y_test, y_predicted)"
   ],
   "metadata": {
    "collapsed": false
   }
  },
  {
   "cell_type": "code",
   "execution_count": null,
   "outputs": [],
   "source": [],
   "metadata": {
    "collapsed": false
   }
  }
 ],
 "metadata": {
  "kernelspec": {
   "display_name": "Python 3 (ipykernel)",
   "language": "python",
   "name": "python3"
  },
  "language_info": {
   "codemirror_mode": {
    "name": "ipython",
    "version": 3
   },
   "file_extension": ".py",
   "mimetype": "text/x-python",
   "name": "python",
   "nbconvert_exporter": "python",
   "pygments_lexer": "ipython3",
   "version": "3.8.16"
  }
 },
 "nbformat": 4,
 "nbformat_minor": 5
}
