{
 "cells": [
  {
   "cell_type": "markdown",
   "source": [
    "IMPORT SECTION"
   ],
   "metadata": {
    "collapsed": false
   }
  },
  {
   "cell_type": "code",
   "execution_count": null,
   "outputs": [],
   "source": [
    "# %load_ext autoreload\n",
    "# %autoreload 2"
   ],
   "metadata": {
    "collapsed": false
   }
  },
  {
   "cell_type": "code",
   "execution_count": null,
   "outputs": [],
   "source": [
    "import os.path as osp\n",
    "import matplotlib.pyplot as plt\n",
    "import seaborn as sns\n",
    "import pandas as pd\n",
    "import numpy as np"
   ],
   "metadata": {
    "collapsed": false
   }
  },
  {
   "cell_type": "raw",
   "source": [
    "IMPORT UTILS"
   ],
   "metadata": {
    "collapsed": false
   }
  },
  {
   "cell_type": "code",
   "execution_count": null,
   "outputs": [],
   "source": [
    "from utils.ml_utils import split_to_train_and_test, get_classifier_obj, calc_evaluation_val\n",
    "from utils.curation_utils import transfer_to_categorical, remove_duplicates_and_drop_na, repair_numeric_missing_vals, \\\n",
    "    outlier_detection_iqr, my_dist_to_avg\n",
    "from utils.plot_utils import plot_frequent_elements, plot_cross_tabulation, get_highly_correlated_cols, \\\n",
    "    transfer_str_to_numeric_vals\n",
    "from utils.spotify_utils import fetch_tracks, fetch_track_data\n",
    "from utils.general_utls import GENRE_LIST, save_dataset, load_dataset"
   ],
   "metadata": {
    "collapsed": false
   }
  },
  {
   "cell_type": "markdown",
   "source": [
    "FETCH SONGS DATA USING SPOTIFY API"
   ],
   "metadata": {
    "collapsed": false
   }
  },
  {
   "cell_type": "code",
   "execution_count": null,
   "outputs": [],
   "source": [
    "query = \"year:1990-2023\"\n",
    "file_name = \"big_dataset_test.csv\"\n",
    "song_per_genre = 2\n",
    "offset_range = int(song_per_genre/50) or 1\n",
    "print(f\"GOING TO FETCH {song_per_genre*len(GENRE_LIST)} TRACKS\")\n",
    "dataset_file_path = osp.join(osp.dirname(osp.abspath(\"__file__\")), file_name)"
   ],
   "metadata": {
    "collapsed": false
   }
  },
  {
   "cell_type": "code",
   "execution_count": null,
   "outputs": [],
   "source": [
    "for genre in GENRE_LIST:\n",
    "    for offset in range(offset_range):\n",
    "        dataset = []\n",
    "        limit = min(50, song_per_genre-50*offset)\n",
    "        try:\n",
    "            print(f\"\\nFETCHING {song_per_genre} {genre.upper()} SONGS, LIMIT: {limit}\")\n",
    "            res = fetch_tracks(query + f\" genre:{genre}\", limit=limit, offset=offset*50)\n",
    "            if not res:\n",
    "                print(f\"FAILED TO FETCH {genre.upper()} SONGS\")\n",
    "                continue\n",
    "\n",
    "            for index, track in enumerate(res):\n",
    "                print(f\"\\nPARSING SONG DATA ({index+1})\")\n",
    "                data = {\"source_genre\": genre}\n",
    "                track_data = fetch_track_data(track)\n",
    "                data.update(track_data)\n",
    "                dataset.append(data)\n",
    "                print(f\"SONG DATA SAVED\")\n",
    "\n",
    "            save_dataset(dataset, dataset_file_path, False)\n",
    "\n",
    "        except Exception as e:\n",
    "            print(f\"FAILED FETCHING TRACKS: {e}\")"
   ],
   "metadata": {
    "collapsed": false
   }
  },
  {
   "cell_type": "raw",
   "source": [
    "PATCH - RECALCULATIONS"
   ],
   "metadata": {
    "collapsed": false
   }
  },
  {
   "cell_type": "code",
   "execution_count": null,
   "outputs": [],
   "source": [
    "# df = load_dataset(dataset_file)\n",
    "# recalculate_dataset(df)\n",
    "# save_dataset(df, dataset_file, True)"
   ],
   "metadata": {
    "collapsed": false
   }
  },
  {
   "cell_type": "code",
   "execution_count": null,
   "outputs": [],
   "source": [
    "dataset = load_dataset(dataset_file_path)\n",
    "print(f\"SHAPE: {dataset.shape}\\n\")\n",
    "dataset.info()"
   ],
   "metadata": {
    "collapsed": false
   }
  },
  {
   "cell_type": "markdown",
   "source": [
    "CLEAN DATASET"
   ],
   "metadata": {
    "collapsed": false
   }
  },
  {
   "cell_type": "code",
   "execution_count": null,
   "outputs": [],
   "source": [
    "dup_na_removed = remove_duplicates_and_drop_na(dataset)\n",
    "outliers = outlier_detection_iqr(dup_na_removed, my_dist_to_avg)\n",
    "repaired = repair_numeric_missing_vals(outliers, dup_na_removed.select_dtypes('number'))\n",
    "repaired.info()"
   ],
   "metadata": {
    "collapsed": false
   }
  },
  {
   "cell_type": "code",
   "execution_count": null,
   "outputs": [],
   "source": [
    "# pd.plotting.scatter_matrix(repaired, figsize = (20,20))"
   ],
   "metadata": {
    "collapsed": false
   }
  },
  {
   "cell_type": "code",
   "execution_count": null,
   "outputs": [],
   "source": [
    "numeric_to_bin_dict = {\n",
    "    \"duration\": [0, 150000, 300000, 450000, 600000, 750000],\n",
    "    \"popularity\": [0, 20, 40, 60, 80, 100],\n",
    "    \"line_cnt\": [0, 50, 100, 150, 200, 250],\n",
    "    \"word_cnt\": [0, 300, 600, 900, 1200, 1500],\n",
    "    \"unique_words_ratio\": [0, 100, 200, 300, 400, 500],\n",
    "    \"stop_words_ratio\": [-1, 150, 300, 450, 600, 750],\n",
    "}\n",
    "\n",
    "categorical_cols = ['chorus_cnt', 'verse_cnt']\n",
    "transferred = transfer_to_categorical(repaired, numeric_to_bin_dict, categorical_cols)"
   ],
   "metadata": {
    "collapsed": false
   }
  },
  {
   "cell_type": "code",
   "execution_count": null,
   "outputs": [],
   "source": [
    "transferred.info()"
   ],
   "metadata": {
    "collapsed": false
   }
  },
  {
   "cell_type": "markdown",
   "source": [
    "EDA SECTION"
   ],
   "metadata": {
    "collapsed": false
   }
  },
  {
   "cell_type": "code",
   "execution_count": null,
   "outputs": [],
   "source": [
    "df_params = pd.DataFrame({'plot_type': ['bar', 'line', 'pie'],\n",
    "                          'col_name': ['common_genre', 'release_year', 'artists'],\n",
    "                          'num_top_elements': [6,6,6]})\n",
    "plot_frequent_elements(transferred, df_params)"
   ],
   "metadata": {
    "collapsed": false
   }
  },
  {
   "cell_type": "code",
   "execution_count": null,
   "outputs": [],
   "source": [
    "plt.rcParams[\"figure.figsize\"] = (18,6)"
   ],
   "metadata": {
    "collapsed": false
   }
  },
  {
   "cell_type": "code",
   "execution_count": null,
   "outputs": [],
   "source": [
    "print(\"\\nCommon Genre Distribution:\")\n",
    "sns.countplot(x='common_genre', data=transferred)\n",
    "plt.show()"
   ],
   "metadata": {
    "collapsed": false
   }
  },
  {
   "cell_type": "code",
   "execution_count": null,
   "outputs": [],
   "source": [
    "numerical_cols = ['duration','popularity', 'line_cnt', 'word_cnt', 'unique_words_ratio',\n",
    "                  'stop_words_ratio']\n",
    "for col in numerical_cols:\n",
    "    sns.histplot(transferred[col])\n",
    "    plt.title(col + \" Distribution\")\n",
    "    plt.show()"
   ],
   "metadata": {
    "collapsed": false
   }
  },
  {
   "cell_type": "code",
   "execution_count": null,
   "outputs": [],
   "source": [
    "sentiment_cols = ['negative', 'neutral', 'positive', 'compound']\n",
    "for col in sentiment_cols:\n",
    "    sns.histplot(transferred[col])\n",
    "    plt.title(col + \" Distribution\")\n",
    "    plt.show()"
   ],
   "metadata": {
    "collapsed": false
   }
  },
  {
   "cell_type": "code",
   "execution_count": null,
   "outputs": [],
   "source": [
    "# cross_tabulation(transferred, 'release_date', 'popularity')\n",
    "plot_cross_tabulation(transferred, ['release_month', 'popularity'], 'common_genre')"
   ],
   "metadata": {
    "collapsed": false
   }
  },
  {
   "cell_type": "code",
   "execution_count": null,
   "outputs": [],
   "source": [
    "correlations, tuple_arr = get_highly_correlated_cols(transferred)"
   ],
   "metadata": {
    "collapsed": false
   }
  },
  {
   "cell_type": "code",
   "execution_count": null,
   "outputs": [],
   "source": [
    "cols_for_correlations = transferred.columns\n",
    "indx_sort = np.argsort(correlations)\n",
    "for n_correlation in indx_sort:\n",
    "    col_lt, col_rt = tuple_arr[n_correlation]\n",
    "    col_name_lt, col_name_rt = cols_for_correlations[col_lt], cols_for_correlations[col_rt]\n",
    "    title = \"corr('%s', '%s')=%4.2f\" %(col_name_lt, col_name_rt, correlations[n_correlation])\n",
    "    print(title)"
   ],
   "metadata": {
    "collapsed": false
   }
  },
  {
   "cell_type": "code",
   "execution_count": null,
   "outputs": [],
   "source": [
    "transferred = transfer_str_to_numeric_vals(transferred)\n",
    "transferred.info()"
   ],
   "metadata": {
    "collapsed": false
   }
  },
  {
   "cell_type": "code",
   "execution_count": null,
   "outputs": [],
   "source": [
    "X_train, X_test, y_train, y_test = split_to_train_and_test(transferred, 'common_genre', 0.2, 5)\n",
    "\n",
    "params = {'n_neighbors':47}\n",
    "clf = get_classifier_obj(\"KNN\",params)\n",
    "clf.fit(X_train, y_train)\n",
    "y_predicted = clf.predict(X_test)"
   ],
   "metadata": {
    "collapsed": false
   }
  },
  {
   "cell_type": "code",
   "execution_count": null,
   "outputs": [],
   "source": [
    "accuracy_val = calc_evaluation_val(\"accuracy\", y_test, y_predicted)\n",
    "print(accuracy_val)\n",
    "# precision_val = calc_evaluation_val(\"precision\", y_test, y_predicted)\n",
    "# print(precision_val)\n",
    "# recall_val = calc_evaluation_val(\"recall\", y_test, y_predicted)\n",
    "# print(recall_val)\n",
    "# f1_val = calc_evaluation_val(\"f1\", y_test, y_predicted)\n",
    "# print(f1_val)\n",
    "# confusion_matrix_val = calc_evaluation_val(\"confusion_matrix\", y_test, y_predicted)"
   ],
   "metadata": {
    "collapsed": false
   }
  },
  {
   "cell_type": "code",
   "execution_count": null,
   "outputs": [],
   "source": [],
   "metadata": {
    "collapsed": false
   }
  }
 ],
 "metadata": {
  "kernelspec": {
   "display_name": "Python 3 (ipykernel)",
   "language": "python",
   "name": "python3"
  },
  "language_info": {
   "codemirror_mode": {
    "name": "ipython",
    "version": 3
   },
   "file_extension": ".py",
   "mimetype": "text/x-python",
   "name": "python",
   "nbconvert_exporter": "python",
   "pygments_lexer": "ipython3",
   "version": "3.8.16"
  }
 },
 "nbformat": 4,
 "nbformat_minor": 5
}
